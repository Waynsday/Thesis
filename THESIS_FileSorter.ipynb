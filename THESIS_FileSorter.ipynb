{
 "cells": [
  {
   "cell_type": "code",
   "execution_count": 20,
   "id": "e149cd5d-e45c-4916-bf60-93f7e192fae9",
   "metadata": {},
   "outputs": [],
   "source": [
    "import os\n",
    "import shutil\n",
    "srcpath = '/Users/waynsday/Desktop/                     /THESIS/UNSORTED'\n",
    "srcfiles = os.listdir(srcpath)\n",
    "srcfiles.remove('.DS_Store')\n",
    "\n",
    "destpath = '/Users/waynsday/Desktop/                     /THESIS/DATA'\n",
    "\n",
    "destdirs = ['PETE','PE-HD','PVC','PE-LD','PP','PS','Other']"
   ]
  },
  {
   "cell_type": "code",
   "execution_count": 51,
   "id": "f410e340-9109-4d12-be43-7895fbfdbde6",
   "metadata": {},
   "outputs": [
    {
     "name": "stdout",
     "output_type": "stream",
     "text": [
      "2120\n",
      "560\n",
      "0\n",
      "0\n",
      "640\n",
      "440\n",
      "40\n"
     ]
    }
   ],
   "source": [
    "def create(dirname, destpath):\n",
    "    full_path = os.path.join(destpath, dirname)\n",
    "    try:\n",
    "        os.mkdir(full_path)\n",
    "    except FileExistsError:\n",
    "        pass\n",
    "    return full_path\n",
    "\n",
    "def copy(folderpath, filename, dirpath):\n",
    "    try:\n",
    "        shutil.copy(os.path.join(folderpath, filename),dirpath)\n",
    "    except shutil.SameFileError:\n",
    "        pass\n",
    "    \n",
    "targets = [(folder, create(folder, destpath)) for folder in destdirs]\n",
    "\n",
    "count = 0\n",
    "\n",
    "for foldername in srcfiles:\n",
    "    folderpath = os.path.join(srcpath,foldername)\n",
    "    for filename in os.listdir(folderpath):\n",
    "        if filename[5:8] == 'a01':\n",
    "            copy(folderpath, filename, targets[0][1])\n",
    "        elif filename[5:8] == 'a02':\n",
    "            copy(folderpath, filename, targets[1][1])\n",
    "        elif filename[5:8] == 'a03':\n",
    "            copy(folderpath, filename, targets[2][1])\n",
    "        elif filename[5:8] == 'a04':\n",
    "            copy(folderpath, filename, targets[3][1])\n",
    "        elif filename[5:8] == 'a05':\n",
    "            copy(folderpath, filename, targets[4][1])\n",
    "        elif filename[5:8] == 'a06':\n",
    "            copy(folderpath, filename, targets[5][1])\n",
    "        elif filename[5:8] == 'a07':\n",
    "            copy(folderpath, filename, targets[6][1])"
   ]
  },
  {
   "cell_type": "code",
   "execution_count": 52,
   "id": "a40fcce8-1813-473a-b97f-cf8eed9c5e7d",
   "metadata": {},
   "outputs": [
    {
     "name": "stdout",
     "output_type": "stream",
     "text": [
      "PETE: 2120\n",
      "PE-HD: 560\n",
      "PVC: 0\n",
      "PE-LD: 0\n",
      "PP: 640\n",
      "PS: 440\n",
      "Other: 40\n"
     ]
    }
   ],
   "source": [
    "for folder, fullpath in targets:\n",
    "    size = len([entry for entry in os.listdir(fullpath) if os.path.isfile(os.path.join(fullpath, entry))])\n",
    "    print('{0}: {1}'.format(folder, size))"
   ]
  },
  {
   "cell_type": "code",
   "execution_count": 59,
   "id": "7dbb5ed2-b0eb-48bc-92e3-8ebfd0bcf203",
   "metadata": {},
   "outputs": [],
   "source": [
    "srcpath = '/Users/waynsday/Desktop/                     /THESIS/DATA'\n",
    "srcfiles = os.listdir(srcpath)\n",
    "srcfiles.remove('.DS_Store')\n",
    "\n",
    "destpath = '/Users/waynsday/Desktop/                     /THESIS'\n",
    "\n",
    "destdirs = ['PETE','PE-HD','PVC','PE-LD','PP','PS','Other']"
   ]
  },
  {
   "cell_type": "code",
   "execution_count": 60,
   "id": "d024d73b-a634-4237-b774-d94bb713c96f",
   "metadata": {},
   "outputs": [],
   "source": [
    "def create(dirname, destpath):\n",
    "    full_path = os.path.join(destpath, dirname)\n",
    "    try:\n",
    "        os.mkdir(full_path)\n",
    "    except FileExistsError:\n",
    "        pass\n",
    "    return full_path\n",
    "\n",
    "def copy(folderpath, filename, dirpath):\n",
    "    try:\n",
    "        shutil.copy(os.path.join(folderpath, filename),dirpath)\n",
    "    except shutil.SameFileError:\n",
    "        pass\n",
    "\n",
    "final_dataset = create('DATASET', destpath)"
   ]
  },
  {
   "cell_type": "code",
   "execution_count": 73,
   "id": "5c18ab6e-a84e-477d-8158-d278dc8720f4",
   "metadata": {},
   "outputs": [
    {
     "name": "stdout",
     "output_type": "stream",
     "text": [
      "1\n"
     ]
    }
   ],
   "source": [
    "a = 'a01'\n",
    "b = int(a[2])\n",
    "print(b)"
   ]
  },
  {
   "cell_type": "code",
   "execution_count": 86,
   "id": "ca90d848-c3ac-4a85-babb-fa7130a8e01f",
   "metadata": {},
   "outputs": [],
   "source": [
    "count = 0\n",
    "annotations = {}\n",
    "for folder, fullpath in targets:\n",
    "    files = os.listdir(fullpath)\n",
    "    for file in files:\n",
    "        copy(fullpath, file, final_dataset)\n",
    "        annotations[file] = int(file[7])"
   ]
  },
  {
   "cell_type": "code",
   "execution_count": 87,
   "id": "e4d27d3c-92cb-4b06-95f2-e8cf2add30bd",
   "metadata": {},
   "outputs": [],
   "source": [
    "import pandas as pd\n",
    "df = pd.DataFrame(annotations.items(), columns=['filename', 'label'])\n",
    "df.head()\n",
    "df.to_csv('annotation_labels.csv')"
   ]
  },
  {
   "cell_type": "code",
   "execution_count": null,
   "id": "31268290-280d-4154-a6ed-ee88f3528747",
   "metadata": {},
   "outputs": [],
   "source": []
  }
 ],
 "metadata": {
  "kernelspec": {
   "display_name": "Python 3 (ipykernel)",
   "language": "python",
   "name": "python3"
  },
  "language_info": {
   "codemirror_mode": {
    "name": "ipython",
    "version": 3
   },
   "file_extension": ".py",
   "mimetype": "text/x-python",
   "name": "python",
   "nbconvert_exporter": "python",
   "pygments_lexer": "ipython3",
   "version": "3.10.4"
  }
 },
 "nbformat": 4,
 "nbformat_minor": 5
}
